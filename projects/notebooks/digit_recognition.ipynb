{
 "cells": [
  {
   "cell_type": "markdown",
   "metadata": {},
   "source": [
    "Handwriting recognition with Python"
   ]
  },
  {
   "cell_type": "code",
   "execution_count": 1,
   "metadata": {},
   "outputs": [],
   "source": [
    "import matplotlib.pyplot as plt\n",
    "%matplotlib inline\n",
    "import seaborn as sns\n",
    "import numpy as np"
   ]
  },
  {
   "cell_type": "code",
   "execution_count": 2,
   "metadata": {},
   "outputs": [],
   "source": [
    "from sklearn.datasets import load_digits\n",
    "digits=load_digits()"
   ]
  },
  {
   "cell_type": "code",
   "execution_count": 3,
   "metadata": {},
   "outputs": [
    {
     "name": "stdout",
     "output_type": "stream",
     "text": [
      "[[ 0.  0.  5. 13.  9.  1.  0.  0.]\n",
      " [ 0.  0. 13. 15. 10. 15.  5.  0.]\n",
      " [ 0.  3. 15.  2.  0. 11.  8.  0.]\n",
      " [ 0.  4. 12.  0.  0.  8.  8.  0.]\n",
      " [ 0.  5.  8.  0.  0.  9.  8.  0.]\n",
      " [ 0.  4. 11.  0.  1. 12.  7.  0.]\n",
      " [ 0.  2. 14.  5. 10. 12.  0.  0.]\n",
      " [ 0.  0.  6. 13. 10.  0.  0.  0.]]\n"
     ]
    },
    {
     "data": {
      "text/plain": [
       "<matplotlib.image.AxesImage at 0x7fa8dca93fd0>"
      ]
     },
     "execution_count": 3,
     "metadata": {},
     "output_type": "execute_result"
    },
    {
     "data": {
      "image/png": "[encoded data removed]",
      "text/plain": [
       "<Figure size 432x288 with 1 Axes>"
      ]
     },
     "metadata": {},
     "output_type": "display_data"
    }
   ],
   "source": [
    "print(digits.images[0])\n",
    "plt.imshow(digits.images[0],cmap=plt.get_cmap('gray'))"
   ]
  },
  {
   "cell_type": "code",
   "execution_count": 4,
   "metadata": {},
   "outputs": [
    {
     "data": {
      "image/png": "[encoded data removed]",
      "text/plain": [
       "<Figure size 720x360 with 10 Axes>"
      ]
     },
     "metadata": {},
     "output_type": "display_data"
    }
   ],
   "source": [
    "images_labels=list(zip(digits.images,digits.target))\n",
    "plt.figure(figsize=(10,5))\n",
    "for ind,(img,label) in enumerate(images_labels[:10]):\n",
    "    plt.subplot(2,5,ind+1)\n",
    "    plt.axis('off')\n",
    "    plt.imshow(img, cmap=plt.get_cmap('gray'))\n",
    "    plt.title('%i'%label)"
   ]
  },
  {
   "cell_type": "code",
   "execution_count": 5,
   "metadata": {},
   "outputs": [
    {
     "name": "stdout",
     "output_type": "stream",
     "text": [
      "Random tree classifier:\n",
      "\n",
      "Score\t: 0.8703578663065497\n"
     ]
    }
   ],
   "source": [
    "from sklearn import ensemble\n",
    "n_samp=len(digits.images)\n",
    "x=digits.images.reshape((n_samp,-1))\n",
    "y=digits.target\n",
    "\n",
    "train_ind=np.random.choice(range(len(x)),int(len(x)/5)) #- training\n",
    "valid_ind=[i for i in range(len(x)) if i not in train_ind] #- validation\n",
    "\n",
    "train_img=[x[i] for i in train_ind]\n",
    "train_target=[y[i] for i in train_ind]\n",
    "\n",
    "valid_img=[x[j] for j in valid_ind]\n",
    "valid_target=[y[j] for j in valid_ind]\n",
    "\n",
    "classifier=ensemble.RandomForestClassifier()\n",
    "classifier.fit(train_img,train_target)\n",
    "\n",
    "score=classifier.score(valid_img,valid_target)\n",
    "\n",
    "print(\"Random tree classifier:\\n\")\n",
    "print(\"Score\\t:\",str(score))"
   ]
  },
  {
   "cell_type": "code",
   "execution_count": 6,
   "metadata": {},
   "outputs": [
    {
     "name": "stdout",
     "output_type": "stream",
     "text": [
      "[856, 238, 1581, 1665, 792, 1295]\n"
     ]
    },
    {
     "data": {
      "image/png": "[encoded data removed]",
      "text/plain": [
       "<Figure size 720x360 with 6 Axes>"
      ]
     },
     "metadata": {},
     "output_type": "display_data"
    }
   ],
   "source": [
    "wrongs=[]\n",
    "n=0\n",
    "for ii in np.random.choice(valid_ind,50):\n",
    "    diff=y[ii]-classifier.predict(x[ii].reshape(1,-1))[0]\n",
    "    #print(diff)\n",
    "    if diff!=0:\n",
    "        wrongs.append(ii)\n",
    "        \n",
    "\n",
    "#- plot the ones with diff !=0\n",
    "print(wrongs)\n",
    "plt.figure(figsize=(10,5))\n",
    "n=0\n",
    "for ind in wrongs:\n",
    "    plt.subplot(2,len(wrongs)/2+1,n+1)\n",
    "    plt.imshow(digits.images[ind],cmap=plt.get_cmap('gray'))\n",
    "    plt.axis('off')\n",
    "    plt.title(\"target:{},  predict: {}\".format(y[ind],classifier.predict(x[ind].reshape(1,-1))[0]))\n",
    "    n=n+1"
   ]
  }
 ],
 "metadata": {
  "kernelspec": {
   "display_name": "Python 3",
   "language": "python",
   "name": "python3"
  },
  "language_info": {
   "codemirror_mode": {
    "name": "ipython",
    "version": 3
   },
   "file_extension": ".py",
   "mimetype": "text/x-python",
   "name": "python",
   "nbconvert_exporter": "python",
   "pygments_lexer": "ipython3",
   "version": "3.6.4"
  }
 },
 "nbformat": 4,
 "nbformat_minor": 2
}
