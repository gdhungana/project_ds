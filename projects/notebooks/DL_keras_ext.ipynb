{
 "cells": [
  {
   "cell_type": "code",
   "execution_count": 1,
   "metadata": {},
   "outputs": [
    {
     "name": "stderr",
     "output_type": "stream",
     "text": [
      "Using TensorFlow backend.\n"
     ]
    }
   ],
   "source": [
    "#DL example using Keras\n",
    "import pandas as pd\n",
    "import numpy as np\n",
    "import matplotlib.pyplot as plt\n",
    "from keras.models import Sequential\n",
    "from keras.layers import Dense\n",
    "from sklearn.model_selection import train_test_split\n",
    "from sklearn.preprocessing import StandardScaler\n",
    "from sklearn.model_selection import StratifiedKFold\n",
    "from sklearn.metrics import r2_score"
   ]
  },
  {
   "cell_type": "code",
   "execution_count": 2,
   "metadata": {},
   "outputs": [],
   "source": [
    "#- load data\n",
    "def get_data(corr=False):\n",
    "    white = pd.read_csv(\"http://archive.ics.uci.edu/ml/machine-learning-databases/wine-quality/winequality-white.csv\", sep=';')\n",
    "    red=pd.read_csv(\"http://archive.ics.uci.edu/ml/machine-learning-databases/wine-quality/winequality-red.csv\", sep=';')\n",
    "    #- combine with a target varialbe\n",
    "    white['type']=0.\n",
    "    red['type']=1.\n",
    "    wines = pd.concat([red,white],join='outer')\n",
    "    \n",
    "    #- check the correlation:\n",
    "    if corr:\n",
    "        import seaborn as sns \n",
    "        corr = wines.corr() \n",
    "        sns.heatmap(corr,  \n",
    "                    xticklabels=corr.columns.values, \n",
    "                    yticklabels=corr.columns.values) \n",
    "        plt.show()    \n",
    "\n",
    "    return wines"
   ]
  },
  {
   "cell_type": "code",
   "execution_count": 3,
   "metadata": {},
   "outputs": [
    {
     "data": {
      "image/png": "[encoded data removed]",
      "text/plain": [
       "<Figure size 432x288 with 2 Axes>"
      ]
     },
     "metadata": {
      "needs_background": "light"
     },
     "output_type": "display_data"
    }
   ],
   "source": [
    "wine_data=get_data(corr=True)"
   ]
  },
  {
   "cell_type": "code",
   "execution_count": 4,
   "metadata": {},
   "outputs": [],
   "source": [
    "#- train_test and scale\n",
    "\n",
    "def train_test_data(dataDF):\n",
    "    # Specify the data \n",
    "    X=dataDF.ix[:,0:-1]\n",
    "    # Specify the target labels and flatten the array \n",
    "    y=np.ravel(dataDF.ix[:,-1])\n",
    "    # Split the data up in train and test sets\n",
    "    X_train, X_test, y_train, y_test = train_test_split(X, y, test_size=0.33, random_state=123)\n",
    "    #- scale/normalization\n",
    "    # Define the scaler \n",
    "    scaler = StandardScaler().fit(X_train)\n",
    "    # Scale the train set\n",
    "    X_train = scaler.transform(X_train)\n",
    "    # Scale the test set\n",
    "    X_test = scaler.transform(X_test)\n",
    "\n",
    "    return X_train,X_test,y_train,y_test"
   ]
  },
  {
   "cell_type": "code",
   "execution_count": 5,
   "metadata": {},
   "outputs": [],
   "source": [
    "def deep_learning_model_inst(inshape=11,hidshape=8):\n",
    "\n",
    "    # Initialize the constructor\n",
    "    model = Sequential()\n",
    "\n",
    "    # Add an input layer \n",
    "    model.add(Dense(12, activation='relu', input_shape=(inshape,)))\n",
    "\n",
    "    # Add one hidden layer \n",
    "    model.add(Dense(hidshape, activation='relu'))\n",
    "\n",
    "    # Add an output layer \n",
    "    model.add(Dense(1, activation='sigmoid'))\n",
    "    return model\n",
    "\n"
   ]
  },
  {
   "cell_type": "code",
   "execution_count": 6,
   "metadata": {},
   "outputs": [],
   "source": [
    "def fit_model(model,XX_train,yy_train,epochs=5,loss='binary_crossentropy',optimizer='adam',metrics=['accuracy']):\n",
    "    model.compile(loss=loss,optimizer=optimizer,metrics=metrics)\n",
    "    model.fit(XX_train,yy_train,epochs=epochs,batch_size=1,verbose=1)\n",
    "    return model\n",
    "\n",
    "\n",
    "def evaluate_model(model,XX_test,yy_test,round=False):\n",
    "    y_pred = model.predict(XX_test)\n",
    "    if round:\n",
    "       y_pred=np.round(y_pred)\n",
    "    score=model.evaluate(XX_test,yy_test,verbose=1)\n",
    "    print(score)\n",
    "    from sklearn.metrics import confusion_matrix, precision_score, recall_score, f1_score, cohen_kappa_score\n",
    "    print(\"Confusion Matrix: \", confusion_matrix(yy_test, y_pred))\n",
    "    print(\"Precision: \",precision_score(yy_test,y_pred))\n",
    "    print(\"Recall: \",recall_score(yy_test,y_pred))\n",
    "    print(\"F1 Score: \", f1_score(yy_test,y_pred))\n",
    "    print(\"Cohen Kappa: \", cohen_kappa_score(yy_test, y_pred))\n",
    "    return"
   ]
  },
  {
   "cell_type": "code",
   "execution_count": 7,
   "metadata": {},
   "outputs": [],
   "source": [
    "def run_process_binary():\n",
    "    wines=get_data()\n",
    "    X_train, X_test, y_train, y_test = train_test_data(wines)\n",
    "    mod=deep_learning_model_inst(inshape=12)\n",
    "    modd=fit_model(mod,X_train,y_train,epochs=5)\n",
    "    evaluate_model(modd,X_test,y_test,round=True)"
   ]
  },
  {
   "cell_type": "code",
   "execution_count": 8,
   "metadata": {},
   "outputs": [
    {
     "name": "stderr",
     "output_type": "stream",
     "text": [
      "/Users/gd397w/softwares/anaconda/anaconda3/lib/python3.7/site-packages/ipykernel_launcher.py:5: DeprecationWarning: \n",
      ".ix is deprecated. Please use\n",
      ".loc for label based indexing or\n",
      ".iloc for positional indexing\n",
      "\n",
      "See the documentation here:\n",
      "http://pandas.pydata.org/pandas-docs/stable/indexing.html#ix-indexer-is-deprecated\n",
      "  \"\"\"\n",
      "/Users/gd397w/softwares/anaconda/anaconda3/lib/python3.7/site-packages/ipykernel_launcher.py:7: DeprecationWarning: \n",
      ".ix is deprecated. Please use\n",
      ".loc for label based indexing or\n",
      ".iloc for positional indexing\n",
      "\n",
      "See the documentation here:\n",
      "http://pandas.pydata.org/pandas-docs/stable/indexing.html#ix-indexer-is-deprecated\n",
      "  import sys\n",
      "/Users/gd397w/softwares/anaconda/anaconda3/lib/python3.7/site-packages/sklearn/preprocessing/data.py:645: DataConversionWarning: Data with input dtype int64, float64 were all converted to float64 by StandardScaler.\n",
      "  return self.partial_fit(X, y)\n",
      "/Users/gd397w/softwares/anaconda/anaconda3/lib/python3.7/site-packages/ipykernel_launcher.py:14: DataConversionWarning: Data with input dtype int64, float64 were all converted to float64 by StandardScaler.\n",
      "  \n",
      "/Users/gd397w/softwares/anaconda/anaconda3/lib/python3.7/site-packages/ipykernel_launcher.py:16: DataConversionWarning: Data with input dtype int64, float64 were all converted to float64 by StandardScaler.\n",
      "  app.launch_new_instance()\n"
     ]
    },
    {
     "name": "stdout",
     "output_type": "stream",
     "text": [
      "Epoch 1/5\n",
      "4352/4352 [==============================] - 3s 719us/step - loss: 0.0830 - accuracy: 0.9789\n",
      "Epoch 2/5\n",
      "4352/4352 [==============================] - 3s 658us/step - loss: 0.0238 - accuracy: 0.9952\n",
      "Epoch 3/5\n",
      "4352/4352 [==============================] - 3s 672us/step - loss: 0.0216 - accuracy: 0.9968\n",
      "Epoch 4/5\n",
      "4352/4352 [==============================] - 3s 667us/step - loss: 0.0202 - accuracy: 0.9963\n",
      "Epoch 5/5\n",
      "4352/4352 [==============================] - 3s 665us/step - loss: 0.0180 - accuracy: 0.9972\n",
      "2145/2145 [==============================] - 0s 18us/step\n",
      "[0.01732395325183851, 0.9962704181671143]\n",
      "Confusion Matrix:  [[1603    1]\n",
      " [   7  534]]\n",
      "Precision:  0.9981308411214953\n",
      "Recall:  0.9870609981515711\n",
      "F1 Score:  0.9925650557620816\n",
      "Cohen Kappa:  0.9900760489257727\n"
     ]
    }
   ],
   "source": [
    "#-Running Process\n",
    "run_process_binary()"
   ]
  },
  {
   "cell_type": "code",
   "execution_count": 10,
   "metadata": {},
   "outputs": [],
   "source": [
    "def run_process_regression(kfold=False,hidden_units=64,input_dim=12,optimizer='rmsprop',loss='mse',metrics=['mae']):\n",
    "    #- use quality as the target\n",
    "    wines=get_data()\n",
    "    #wines=wines.drop('type',axis=1)\n",
    "    if kfold:\n",
    "        y=wines.quality.values\n",
    "        X=wines.drop('quality',axis=1)\n",
    "        seed = 123\n",
    "        np.random.seed(seed)\n",
    "        kfold = StratifiedKFold(n_splits=5, shuffle=True, random_state=seed)\n",
    "        X=StandardScaler().fit_transform(X)\n",
    "        for train, test in kfold.split(X, y):\n",
    "            model = Sequential()\n",
    "            model.add(Dense(hidden_units, input_dim=input_dim, activation='relu'))\n",
    "            model.add(Dense(12, activation='relu')) #- Hidden\n",
    "            model.add(Dense(1))\n",
    "            model.compile(optimizer=optimizer, loss=loss, metrics=metrics)\n",
    "            model.fit(X[train], y[train], epochs=5, verbose=1) \n",
    "            y_pred=model.predict(X[test])\n",
    "            mse_value, mae_value = model.evaluate(X[test], y[test], verbose=0)\n",
    "            print(\"MSE: \", mse_value)\n",
    "            print(\"MAE: \", mae_value)\n",
    "            print(\"R2 Score: \",r2_score(y[test], y_pred))\n",
    "        \n",
    "    else:\n",
    "        #- reorder the columns\n",
    "        wines=wines[['fixed acidity', 'volatile acidity', 'citric acid', 'residual sugar','chlorides', 'free sulfur dioxide', 'total sulfur dioxide', 'density','pH', 'sulphates', 'alcohol', 'type','quality']]\n",
    "        X_train, X_test, y_train, y_test = train_test_data(wines)\n",
    "        mod=Sequential()\n",
    "        mod.add(Dense(hidden_units, input_dim=input_dim, activation='relu'))\n",
    "        mod.add(Dense(12, activation='relu'))\n",
    "        mod.add(Dense(1))\n",
    "        modd=fit_model(mod,X_train,y_train,epochs=5,optimizer=optimizer,loss=loss, metrics=metrics)\n",
    "        #evaluate_model(modd,X_test,y_test)\n",
    "        y_pred=modd.predict(X_test)\n",
    "        mse_value, mae_value = modd.evaluate(X_test, y_test, verbose=0)\n",
    "        print(\"MSE: \", mse_value)\n",
    "        print(\"MAE: \", mae_value)\n",
    "        print(\"R2 Score: \",r2_score(y_test, y_pred))\n",
    "    return"
   ]
  },
  {
   "cell_type": "code",
   "execution_count": 11,
   "metadata": {},
   "outputs": [
    {
     "name": "stderr",
     "output_type": "stream",
     "text": [
      "/Users/gd397w/softwares/anaconda/anaconda3/lib/python3.7/site-packages/ipykernel_launcher.py:5: DeprecationWarning: \n",
      ".ix is deprecated. Please use\n",
      ".loc for label based indexing or\n",
      ".iloc for positional indexing\n",
      "\n",
      "See the documentation here:\n",
      "http://pandas.pydata.org/pandas-docs/stable/indexing.html#ix-indexer-is-deprecated\n",
      "  \"\"\"\n",
      "/Users/gd397w/softwares/anaconda/anaconda3/lib/python3.7/site-packages/ipykernel_launcher.py:7: DeprecationWarning: \n",
      ".ix is deprecated. Please use\n",
      ".loc for label based indexing or\n",
      ".iloc for positional indexing\n",
      "\n",
      "See the documentation here:\n",
      "http://pandas.pydata.org/pandas-docs/stable/indexing.html#ix-indexer-is-deprecated\n",
      "  import sys\n"
     ]
    },
    {
     "name": "stdout",
     "output_type": "stream",
     "text": [
      "Epoch 1/5\n",
      "4352/4352 [==============================] - 3s 664us/step - loss: 1.6172 - mae: 0.8666 3s - loss: 5. - ETA: 1s \n",
      "Epoch 2/5\n",
      "4352/4352 [==============================] - 3s 623us/step - loss: 0.6058 - mae: 0.6031\n",
      "Epoch 3/5\n",
      "4352/4352 [==============================] - 3s 600us/step - loss: 0.5697 - mae: 0.5895\n",
      "Epoch 4/5\n",
      "4352/4352 [==============================] - 3s 593us/step - loss: 0.5448 - mae: 0.5741\n",
      "Epoch 5/5\n",
      "4352/4352 [==============================] - 3s 618us/step - loss: 0.5313 - mae: 0.5671 1s - loss: 0.5223 - mae: 0.559 - \n",
      "MSE:  0.5043242851337353\n",
      "MAE:  0.5446226000785828\n",
      "R2 Score:  0.34108875896565316\n"
     ]
    }
   ],
   "source": [
    "#- run regress model\n",
    "run_process_regression()"
   ]
  },
  {
   "cell_type": "code",
   "execution_count": 12,
   "metadata": {},
   "outputs": [
    {
     "name": "stdout",
     "output_type": "stream",
     "text": [
      "Epoch 1/5\n",
      "5195/5195 [==============================] - 0s 37us/step - loss: 13.6062 - mae: 3.1452\n",
      "Epoch 2/5\n",
      "5195/5195 [==============================] - 0s 23us/step - loss: 1.2297 - mae: 0.8614\n",
      "Epoch 3/5\n",
      "5195/5195 [==============================] - 0s 23us/step - loss: 0.8387 - mae: 0.7057\n",
      "Epoch 4/5\n",
      "5195/5195 [==============================] - 0s 23us/step - loss: 0.6722 - mae: 0.6333\n",
      "Epoch 5/5\n",
      "5195/5195 [==============================] - 0s 23us/step - loss: 0.5873 - mae: 0.5916\n",
      "MSE:  0.6013093615915003\n",
      "MAE:  0.5919342041015625\n",
      "R2 Score:  0.2138400653402489\n",
      "Epoch 1/5\n",
      "5197/5197 [==============================] - 0s 38us/step - loss: 6.4636 - mae: 1.9541\n",
      "Epoch 2/5\n",
      "5197/5197 [==============================] - 0s 24us/step - loss: 1.0451 - mae: 0.7854\n",
      "Epoch 3/5\n",
      "5197/5197 [==============================] - 0s 23us/step - loss: 0.7176 - mae: 0.6525\n",
      "Epoch 4/5\n",
      "5197/5197 [==============================] - 0s 23us/step - loss: 0.5894 - mae: 0.5977\n",
      "Epoch 5/5\n",
      "5197/5197 [==============================] - 0s 23us/step - loss: 0.5408 - mae: 0.5732\n",
      "MSE:  0.5485721925588755\n",
      "MAE:  0.5769520998001099\n",
      "R2 Score:  0.28148106506878523\n",
      "Epoch 1/5\n",
      "5197/5197 [==============================] - 0s 39us/step - loss: 28.3789 - mae: 5.2065\n",
      "Epoch 2/5\n",
      "5197/5197 [==============================] - 0s 24us/step - loss: 4.7301 - mae: 1.7463\n",
      "Epoch 3/5\n",
      "5197/5197 [==============================] - 0s 24us/step - loss: 1.2511 - mae: 0.8643\n",
      "Epoch 4/5\n",
      "5197/5197 [==============================] - 0s 23us/step - loss: 0.9103 - mae: 0.7366\n",
      "Epoch 5/5\n",
      "5197/5197 [==============================] - 0s 24us/step - loss: 0.7433 - mae: 0.6647\n",
      "MSE:  0.6797419791955214\n",
      "MAE:  0.6376570463180542\n",
      "R2 Score:  0.10967511314815959\n",
      "Epoch 1/5\n",
      "5199/5199 [==============================] - 0s 40us/step - loss: 8.9255 - mae: 2.3389\n",
      "Epoch 2/5\n",
      "5199/5199 [==============================] - 0s 24us/step - loss: 1.1081 - mae: 0.8037\n",
      "Epoch 3/5\n",
      "5199/5199 [==============================] - 0s 24us/step - loss: 0.7324 - mae: 0.6531\n",
      "Epoch 4/5\n",
      "5199/5199 [==============================] - 0s 25us/step - loss: 0.5965 - mae: 0.5936\n",
      "Epoch 5/5\n",
      "5199/5199 [==============================] - 0s 25us/step - loss: 0.5394 - mae: 0.5702\n",
      "MSE:  0.5607153507888042\n",
      "MAE:  0.5782011151313782\n",
      "R2 Score:  0.2626732543345459\n",
      "Epoch 1/5\n",
      "5200/5200 [==============================] - 0s 40us/step - loss: 4.6150 - mae: 1.6081\n",
      "Epoch 2/5\n",
      "5200/5200 [==============================] - 0s 26us/step - loss: 1.0697 - mae: 0.7836\n",
      "Epoch 3/5\n",
      "5200/5200 [==============================] - 0s 24us/step - loss: 0.7215 - mae: 0.6470\n",
      "Epoch 4/5\n",
      "5200/5200 [==============================] - 0s 25us/step - loss: 0.5862 - mae: 0.5890\n",
      "Epoch 5/5\n",
      "5200/5200 [==============================] - 0s 25us/step - loss: 0.5372 - mae: 0.5685\n",
      "MSE:  0.5676189581522504\n",
      "MAE:  0.5828807353973389\n",
      "R2 Score:  0.25311259806389985\n"
     ]
    }
   ],
   "source": [
    "#use cross validation\n",
    "run_process_regression(kfold=True)"
   ]
  },
  {
   "cell_type": "code",
   "execution_count": 13,
   "metadata": {},
   "outputs": [
    {
     "name": "stderr",
     "output_type": "stream",
     "text": [
      "/Users/gd397w/softwares/anaconda/anaconda3/lib/python3.7/site-packages/ipykernel_launcher.py:5: DeprecationWarning: \n",
      ".ix is deprecated. Please use\n",
      ".loc for label based indexing or\n",
      ".iloc for positional indexing\n",
      "\n",
      "See the documentation here:\n",
      "http://pandas.pydata.org/pandas-docs/stable/indexing.html#ix-indexer-is-deprecated\n",
      "  \"\"\"\n",
      "/Users/gd397w/softwares/anaconda/anaconda3/lib/python3.7/site-packages/ipykernel_launcher.py:7: DeprecationWarning: \n",
      ".ix is deprecated. Please use\n",
      ".loc for label based indexing or\n",
      ".iloc for positional indexing\n",
      "\n",
      "See the documentation here:\n",
      "http://pandas.pydata.org/pandas-docs/stable/indexing.html#ix-indexer-is-deprecated\n",
      "  import sys\n"
     ]
    },
    {
     "name": "stdout",
     "output_type": "stream",
     "text": [
      "Epoch 1/5\n",
      "4352/4352 [==============================] - 3s 616us/step - loss: 1.1122 - mae: 0.7855\n",
      "Epoch 2/5\n",
      "4352/4352 [==============================] - 3s 615us/step - loss: 0.6626 - mae: 0.6294\n",
      "Epoch 3/5\n",
      "4352/4352 [==============================] - 3s 604us/step - loss: 0.5936 - mae: 0.6034\n",
      "Epoch 4/5\n",
      "4352/4352 [==============================] - 3s 603us/step - loss: 0.5660 - mae: 0.5857\n",
      "Epoch 5/5\n",
      "4352/4352 [==============================] - 3s 612us/step - loss: 0.5557 - mae: 0.5847\n",
      "MSE:  0.5595537681332279\n",
      "MAE:  0.586737871170044\n",
      "R2 Score:  0.2689301760330228\n"
     ]
    }
   ],
   "source": [
    "#- other optimizer:rmsprop\n",
    "from keras.optimizers import SGD, RMSprop\n",
    "sgd=SGD(lr=0.1)\n",
    "rmsprop=RMSprop(lr=0.01)\n",
    "run_process_regression(optimizer=rmsprop)"
   ]
  },
  {
   "cell_type": "code",
   "execution_count": 14,
   "metadata": {},
   "outputs": [
    {
     "name": "stderr",
     "output_type": "stream",
     "text": [
      "/Users/gd397w/softwares/anaconda/anaconda3/lib/python3.7/site-packages/ipykernel_launcher.py:5: DeprecationWarning: \n",
      ".ix is deprecated. Please use\n",
      ".loc for label based indexing or\n",
      ".iloc for positional indexing\n",
      "\n",
      "See the documentation here:\n",
      "http://pandas.pydata.org/pandas-docs/stable/indexing.html#ix-indexer-is-deprecated\n",
      "  \"\"\"\n",
      "/Users/gd397w/softwares/anaconda/anaconda3/lib/python3.7/site-packages/ipykernel_launcher.py:7: DeprecationWarning: \n",
      ".ix is deprecated. Please use\n",
      ".loc for label based indexing or\n",
      ".iloc for positional indexing\n",
      "\n",
      "See the documentation here:\n",
      "http://pandas.pydata.org/pandas-docs/stable/indexing.html#ix-indexer-is-deprecated\n",
      "  import sys\n"
     ]
    },
    {
     "name": "stdout",
     "output_type": "stream",
     "text": [
      "Epoch 1/5\n",
      "4352/4352 [==============================] - 2s 546us/step - loss: 1.2522 - mae: 0.7476\n",
      "Epoch 2/5\n",
      "4352/4352 [==============================] - 2s 555us/step - loss: 0.8420 - mae: 0.7251\n",
      "Epoch 3/5\n",
      "4352/4352 [==============================] - 2s 572us/step - loss: 0.8476 - mae: 0.7261\n",
      "Epoch 4/5\n",
      "4352/4352 [==============================] - 2s 545us/step - loss: 0.8523 - mae: 0.7262\n",
      "Epoch 5/5\n",
      "4352/4352 [==============================] - 2s 548us/step - loss: 0.8447 - mae: 0.7251\n",
      "MSE:  0.93740764241188\n",
      "MAE:  0.7765613198280334\n",
      "R2 Score:  -0.22474456263081577\n"
     ]
    }
   ],
   "source": [
    "# using stochastic gradient decent\n",
    "run_process_regression(optimizer=sgd)"
   ]
  }
 ],
 "metadata": {
  "kernelspec": {
   "display_name": "Python 3",
   "language": "python",
   "name": "python3"
  },
  "language_info": {
   "codemirror_mode": {
    "name": "ipython",
    "version": 3
   },
   "file_extension": ".py",
   "mimetype": "text/x-python",
   "name": "python",
   "nbconvert_exporter": "python",
   "pygments_lexer": "ipython3",
   "version": "3.7.3"
  }
 },
 "nbformat": 4,
 "nbformat_minor": 2
}
